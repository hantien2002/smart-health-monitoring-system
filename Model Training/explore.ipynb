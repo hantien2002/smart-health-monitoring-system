{
 "cells": [
  {
   "cell_type": "markdown",
   "metadata": {},
   "source": [
    "# Import and Reading Data"
   ]
  },
  {
   "cell_type": "code",
   "execution_count": 1,
   "metadata": {},
   "outputs": [],
   "source": [
    "import pandas as pd\n",
    "import numpy as np\n",
    "import matplotlib as plt\n",
    "import seaborn as sns\n",
    "plt.style.use('ggplot')\n",
    "# pd.set_option('max_columns', 200)"
   ]
  },
  {
   "cell_type": "code",
   "execution_count": 2,
   "metadata": {},
   "outputs": [],
   "source": [
    "heart_rate_df = pd.read_csv('/Users/tien/Desktop/Smart_HMS/smart-health-monitoring-system/Model Training/Kaggle Data/heart_rate_data.csv')"
   ]
  },
  {
   "cell_type": "markdown",
   "metadata": {},
   "source": [
    "# Data Understanding - Heart Rate Data\n"
   ]
  },
  {
   "cell_type": "code",
   "execution_count": 3,
   "metadata": {},
   "outputs": [
    {
     "data": {
      "text/plain": [
       "(109486, 3)"
      ]
     },
     "execution_count": 3,
     "metadata": {},
     "output_type": "execute_result"
    }
   ],
   "source": [
    "heart_rate_df.shape"
   ]
  },
  {
   "cell_type": "code",
   "execution_count": 4,
   "metadata": {},
   "outputs": [
    {
     "data": {
      "text/html": [
       "<div>\n",
       "<style scoped>\n",
       "    .dataframe tbody tr th:only-of-type {\n",
       "        vertical-align: middle;\n",
       "    }\n",
       "\n",
       "    .dataframe tbody tr th {\n",
       "        vertical-align: top;\n",
       "    }\n",
       "\n",
       "    .dataframe thead th {\n",
       "        text-align: right;\n",
       "    }\n",
       "</style>\n",
       "<table border=\"1\" class=\"dataframe\">\n",
       "  <thead>\n",
       "    <tr style=\"text-align: right;\">\n",
       "      <th></th>\n",
       "      <th>Timestamp</th>\n",
       "      <th>Heart Rate</th>\n",
       "      <th>Source Name</th>\n",
       "    </tr>\n",
       "  </thead>\n",
       "  <tbody>\n",
       "    <tr>\n",
       "      <th>0</th>\n",
       "      <td>2022-09-13 00:00:36</td>\n",
       "      <td>74.0000</td>\n",
       "      <td>Apple Watch SE 2020</td>\n",
       "    </tr>\n",
       "    <tr>\n",
       "      <th>1</th>\n",
       "      <td>2022-09-13 00:05:31</td>\n",
       "      <td>75.0000</td>\n",
       "      <td>Apple Watch SE 2020</td>\n",
       "    </tr>\n",
       "    <tr>\n",
       "      <th>2</th>\n",
       "      <td>2022-09-13 00:06:33</td>\n",
       "      <td>78.3673</td>\n",
       "      <td>Apple Watch SE 2020</td>\n",
       "    </tr>\n",
       "    <tr>\n",
       "      <th>3</th>\n",
       "      <td>2022-09-13 00:10:30</td>\n",
       "      <td>77.0000</td>\n",
       "      <td>Apple Watch SE 2020</td>\n",
       "    </tr>\n",
       "    <tr>\n",
       "      <th>4</th>\n",
       "      <td>2022-09-13 00:18:35</td>\n",
       "      <td>77.0000</td>\n",
       "      <td>Apple Watch SE 2020</td>\n",
       "    </tr>\n",
       "  </tbody>\n",
       "</table>\n",
       "</div>"
      ],
      "text/plain": [
       "             Timestamp  Heart Rate          Source Name\n",
       "0  2022-09-13 00:00:36     74.0000  Apple Watch SE 2020\n",
       "1  2022-09-13 00:05:31     75.0000  Apple Watch SE 2020\n",
       "2  2022-09-13 00:06:33     78.3673  Apple Watch SE 2020\n",
       "3  2022-09-13 00:10:30     77.0000  Apple Watch SE 2020\n",
       "4  2022-09-13 00:18:35     77.0000  Apple Watch SE 2020"
      ]
     },
     "execution_count": 4,
     "metadata": {},
     "output_type": "execute_result"
    }
   ],
   "source": [
    "heart_rate_df.head(5)"
   ]
  },
  {
   "cell_type": "code",
   "execution_count": 5,
   "metadata": {},
   "outputs": [
    {
     "data": {
      "text/plain": [
       "Index(['Timestamp', 'Heart Rate', 'Source Name'], dtype='object')"
      ]
     },
     "execution_count": 5,
     "metadata": {},
     "output_type": "execute_result"
    }
   ],
   "source": [
    "heart_rate_df.columns"
   ]
  },
  {
   "cell_type": "code",
   "execution_count": 6,
   "metadata": {},
   "outputs": [
    {
     "data": {
      "text/plain": [
       "Timestamp       object\n",
       "Heart Rate     float64\n",
       "Source Name     object\n",
       "dtype: object"
      ]
     },
     "execution_count": 6,
     "metadata": {},
     "output_type": "execute_result"
    }
   ],
   "source": [
    "heart_rate_df.dtypes"
   ]
  },
  {
   "cell_type": "code",
   "execution_count": 7,
   "metadata": {},
   "outputs": [
    {
     "data": {
      "text/html": [
       "<div>\n",
       "<style scoped>\n",
       "    .dataframe tbody tr th:only-of-type {\n",
       "        vertical-align: middle;\n",
       "    }\n",
       "\n",
       "    .dataframe tbody tr th {\n",
       "        vertical-align: top;\n",
       "    }\n",
       "\n",
       "    .dataframe thead th {\n",
       "        text-align: right;\n",
       "    }\n",
       "</style>\n",
       "<table border=\"1\" class=\"dataframe\">\n",
       "  <thead>\n",
       "    <tr style=\"text-align: right;\">\n",
       "      <th></th>\n",
       "      <th>Heart Rate</th>\n",
       "    </tr>\n",
       "  </thead>\n",
       "  <tbody>\n",
       "    <tr>\n",
       "      <th>count</th>\n",
       "      <td>109486.000000</td>\n",
       "    </tr>\n",
       "    <tr>\n",
       "      <th>mean</th>\n",
       "      <td>89.394449</td>\n",
       "    </tr>\n",
       "    <tr>\n",
       "      <th>std</th>\n",
       "      <td>19.261271</td>\n",
       "    </tr>\n",
       "    <tr>\n",
       "      <th>min</th>\n",
       "      <td>40.000000</td>\n",
       "    </tr>\n",
       "    <tr>\n",
       "      <th>25%</th>\n",
       "      <td>74.000000</td>\n",
       "    </tr>\n",
       "    <tr>\n",
       "      <th>50%</th>\n",
       "      <td>90.000000</td>\n",
       "    </tr>\n",
       "    <tr>\n",
       "      <th>75%</th>\n",
       "      <td>103.000000</td>\n",
       "    </tr>\n",
       "    <tr>\n",
       "      <th>max</th>\n",
       "      <td>176.000000</td>\n",
       "    </tr>\n",
       "  </tbody>\n",
       "</table>\n",
       "</div>"
      ],
      "text/plain": [
       "          Heart Rate\n",
       "count  109486.000000\n",
       "mean       89.394449\n",
       "std        19.261271\n",
       "min        40.000000\n",
       "25%        74.000000\n",
       "50%        90.000000\n",
       "75%       103.000000\n",
       "max       176.000000"
      ]
     },
     "execution_count": 7,
     "metadata": {},
     "output_type": "execute_result"
    }
   ],
   "source": [
    "heart_rate_df.describe()"
   ]
  },
  {
   "cell_type": "markdown",
   "metadata": {},
   "source": [
    "# Data Preperation - Heart Rate Data"
   ]
  },
  {
   "cell_type": "code",
   "execution_count": 8,
   "metadata": {},
   "outputs": [
    {
     "data": {
      "text/html": [
       "<div>\n",
       "<style scoped>\n",
       "    .dataframe tbody tr th:only-of-type {\n",
       "        vertical-align: middle;\n",
       "    }\n",
       "\n",
       "    .dataframe tbody tr th {\n",
       "        vertical-align: top;\n",
       "    }\n",
       "\n",
       "    .dataframe thead th {\n",
       "        text-align: right;\n",
       "    }\n",
       "</style>\n",
       "<table border=\"1\" class=\"dataframe\">\n",
       "  <thead>\n",
       "    <tr style=\"text-align: right;\">\n",
       "      <th></th>\n",
       "      <th>Timestamp</th>\n",
       "      <th>Heart Rate</th>\n",
       "      <th>Source Name</th>\n",
       "    </tr>\n",
       "  </thead>\n",
       "  <tbody>\n",
       "    <tr>\n",
       "      <th>0</th>\n",
       "      <td>2022-09-13 00:00:36</td>\n",
       "      <td>74.0000</td>\n",
       "      <td>Apple Watch SE 2020</td>\n",
       "    </tr>\n",
       "    <tr>\n",
       "      <th>1</th>\n",
       "      <td>2022-09-13 00:05:31</td>\n",
       "      <td>75.0000</td>\n",
       "      <td>Apple Watch SE 2020</td>\n",
       "    </tr>\n",
       "    <tr>\n",
       "      <th>2</th>\n",
       "      <td>2022-09-13 00:06:33</td>\n",
       "      <td>78.3673</td>\n",
       "      <td>Apple Watch SE 2020</td>\n",
       "    </tr>\n",
       "    <tr>\n",
       "      <th>3</th>\n",
       "      <td>2022-09-13 00:10:30</td>\n",
       "      <td>77.0000</td>\n",
       "      <td>Apple Watch SE 2020</td>\n",
       "    </tr>\n",
       "    <tr>\n",
       "      <th>4</th>\n",
       "      <td>2022-09-13 00:18:35</td>\n",
       "      <td>77.0000</td>\n",
       "      <td>Apple Watch SE 2020</td>\n",
       "    </tr>\n",
       "  </tbody>\n",
       "</table>\n",
       "</div>"
      ],
      "text/plain": [
       "             Timestamp  Heart Rate          Source Name\n",
       "0  2022-09-13 00:00:36     74.0000  Apple Watch SE 2020\n",
       "1  2022-09-13 00:05:31     75.0000  Apple Watch SE 2020\n",
       "2  2022-09-13 00:06:33     78.3673  Apple Watch SE 2020\n",
       "3  2022-09-13 00:10:30     77.0000  Apple Watch SE 2020\n",
       "4  2022-09-13 00:18:35     77.0000  Apple Watch SE 2020"
      ]
     },
     "execution_count": 8,
     "metadata": {},
     "output_type": "execute_result"
    }
   ],
   "source": [
    "heart_rate_df.head()"
   ]
  },
  {
   "cell_type": "code",
   "execution_count": 9,
   "metadata": {},
   "outputs": [
    {
     "data": {
      "text/plain": [
       "Timestamp       object\n",
       "Heart Rate     float64\n",
       "Source Name     object\n",
       "dtype: object"
      ]
     },
     "execution_count": 9,
     "metadata": {},
     "output_type": "execute_result"
    }
   ],
   "source": [
    "heart_rate_df.dtypes"
   ]
  },
  {
   "cell_type": "code",
   "execution_count": 10,
   "metadata": {},
   "outputs": [],
   "source": [
    "heart_rate_df['Timestamp'] = pd.to_datetime(heart_rate_df['Timestamp'])"
   ]
  },
  {
   "cell_type": "code",
   "execution_count": 11,
   "metadata": {},
   "outputs": [
    {
     "data": {
      "text/plain": [
       "Timestamp      datetime64[ns]\n",
       "Heart Rate            float64\n",
       "Source Name            object\n",
       "dtype: object"
      ]
     },
     "execution_count": 11,
     "metadata": {},
     "output_type": "execute_result"
    }
   ],
   "source": [
    "heart_rate_df.dtypes"
   ]
  },
  {
   "cell_type": "code",
   "execution_count": 12,
   "metadata": {},
   "outputs": [
    {
     "data": {
      "text/plain": [
       "Index(['Timestamp', 'Heart Rate', 'Source Name'], dtype='object')"
      ]
     },
     "execution_count": 12,
     "metadata": {},
     "output_type": "execute_result"
    }
   ],
   "source": [
    "heart_rate_df.columns"
   ]
  },
  {
   "cell_type": "code",
   "execution_count": 13,
   "metadata": {},
   "outputs": [],
   "source": [
    "# rename columns\n",
    "heart_rate_df = heart_rate_df.rename(columns={'Timestamp': 'datetime',\n",
    "                   'Heart Rate': 'heart_rate',\n",
    "                   'Source Name': 'source_name'})"
   ]
  },
  {
   "cell_type": "code",
   "execution_count": 14,
   "metadata": {},
   "outputs": [
    {
     "data": {
      "text/html": [
       "<div>\n",
       "<style scoped>\n",
       "    .dataframe tbody tr th:only-of-type {\n",
       "        vertical-align: middle;\n",
       "    }\n",
       "\n",
       "    .dataframe tbody tr th {\n",
       "        vertical-align: top;\n",
       "    }\n",
       "\n",
       "    .dataframe thead th {\n",
       "        text-align: right;\n",
       "    }\n",
       "</style>\n",
       "<table border=\"1\" class=\"dataframe\">\n",
       "  <thead>\n",
       "    <tr style=\"text-align: right;\">\n",
       "      <th></th>\n",
       "      <th>datetime</th>\n",
       "      <th>heart_rate</th>\n",
       "      <th>source_name</th>\n",
       "    </tr>\n",
       "  </thead>\n",
       "  <tbody>\n",
       "    <tr>\n",
       "      <th>0</th>\n",
       "      <td>2022-09-13 00:00:36</td>\n",
       "      <td>74.0000</td>\n",
       "      <td>Apple Watch SE 2020</td>\n",
       "    </tr>\n",
       "    <tr>\n",
       "      <th>1</th>\n",
       "      <td>2022-09-13 00:05:31</td>\n",
       "      <td>75.0000</td>\n",
       "      <td>Apple Watch SE 2020</td>\n",
       "    </tr>\n",
       "    <tr>\n",
       "      <th>2</th>\n",
       "      <td>2022-09-13 00:06:33</td>\n",
       "      <td>78.3673</td>\n",
       "      <td>Apple Watch SE 2020</td>\n",
       "    </tr>\n",
       "    <tr>\n",
       "      <th>3</th>\n",
       "      <td>2022-09-13 00:10:30</td>\n",
       "      <td>77.0000</td>\n",
       "      <td>Apple Watch SE 2020</td>\n",
       "    </tr>\n",
       "    <tr>\n",
       "      <th>4</th>\n",
       "      <td>2022-09-13 00:18:35</td>\n",
       "      <td>77.0000</td>\n",
       "      <td>Apple Watch SE 2020</td>\n",
       "    </tr>\n",
       "  </tbody>\n",
       "</table>\n",
       "</div>"
      ],
      "text/plain": [
       "             datetime  heart_rate          source_name\n",
       "0 2022-09-13 00:00:36     74.0000  Apple Watch SE 2020\n",
       "1 2022-09-13 00:05:31     75.0000  Apple Watch SE 2020\n",
       "2 2022-09-13 00:06:33     78.3673  Apple Watch SE 2020\n",
       "3 2022-09-13 00:10:30     77.0000  Apple Watch SE 2020\n",
       "4 2022-09-13 00:18:35     77.0000  Apple Watch SE 2020"
      ]
     },
     "execution_count": 14,
     "metadata": {},
     "output_type": "execute_result"
    }
   ],
   "source": [
    "heart_rate_df.head()"
   ]
  },
  {
   "cell_type": "code",
   "execution_count": 15,
   "metadata": {},
   "outputs": [
    {
     "data": {
      "text/plain": [
       "datetime       0\n",
       "heart_rate     0\n",
       "source_name    0\n",
       "dtype: int64"
      ]
     },
     "execution_count": 15,
     "metadata": {},
     "output_type": "execute_result"
    }
   ],
   "source": [
    "heart_rate_df.isna().sum()"
   ]
  },
  {
   "cell_type": "code",
   "execution_count": 16,
   "metadata": {},
   "outputs": [
    {
     "data": {
      "text/html": [
       "<div>\n",
       "<style scoped>\n",
       "    .dataframe tbody tr th:only-of-type {\n",
       "        vertical-align: middle;\n",
       "    }\n",
       "\n",
       "    .dataframe tbody tr th {\n",
       "        vertical-align: top;\n",
       "    }\n",
       "\n",
       "    .dataframe thead th {\n",
       "        text-align: right;\n",
       "    }\n",
       "</style>\n",
       "<table border=\"1\" class=\"dataframe\">\n",
       "  <thead>\n",
       "    <tr style=\"text-align: right;\">\n",
       "      <th></th>\n",
       "      <th>datetime</th>\n",
       "      <th>heart_rate</th>\n",
       "      <th>source_name</th>\n",
       "    </tr>\n",
       "  </thead>\n",
       "  <tbody>\n",
       "  </tbody>\n",
       "</table>\n",
       "</div>"
      ],
      "text/plain": [
       "Empty DataFrame\n",
       "Columns: [datetime, heart_rate, source_name]\n",
       "Index: []"
      ]
     },
     "execution_count": 16,
     "metadata": {},
     "output_type": "execute_result"
    }
   ],
   "source": [
    "heart_rate_df.loc[heart_rate_df.duplicated()]"
   ]
  },
  {
   "cell_type": "code",
   "execution_count": 17,
   "metadata": {},
   "outputs": [
    {
     "data": {
      "text/plain": [
       "array(['Apple Watch SE 2020', 'Apple Watch Ultra'], dtype=object)"
      ]
     },
     "execution_count": 17,
     "metadata": {},
     "output_type": "execute_result"
    }
   ],
   "source": [
    "heart_rate_df[\"source_name\"].unique()"
   ]
  },
  {
   "cell_type": "markdown",
   "metadata": {},
   "source": [
    "# Data Understanding - Sleep Data"
   ]
  },
  {
   "cell_type": "code",
   "execution_count": 20,
   "metadata": {},
   "outputs": [],
   "source": [
    "sleep_df = pd.read_csv('/Users/tien/Desktop/Smart_HMS/smart-health-monitoring-system/Model Training/Kaggle Data/sleep_data.csv')"
   ]
  },
  {
   "cell_type": "code",
   "execution_count": 21,
   "metadata": {},
   "outputs": [
    {
     "data": {
      "text/plain": [
       "(8375, 6)"
      ]
     },
     "execution_count": 21,
     "metadata": {},
     "output_type": "execute_result"
    }
   ],
   "source": [
    "sleep_df.shape"
   ]
  },
  {
   "cell_type": "code",
   "execution_count": 22,
   "metadata": {},
   "outputs": [
    {
     "data": {
      "text/html": [
       "<div>\n",
       "<style scoped>\n",
       "    .dataframe tbody tr th:only-of-type {\n",
       "        vertical-align: middle;\n",
       "    }\n",
       "\n",
       "    .dataframe tbody tr th {\n",
       "        vertical-align: top;\n",
       "    }\n",
       "\n",
       "    .dataframe thead th {\n",
       "        text-align: right;\n",
       "    }\n",
       "</style>\n",
       "<table border=\"1\" class=\"dataframe\">\n",
       "  <thead>\n",
       "    <tr style=\"text-align: right;\">\n",
       "      <th></th>\n",
       "      <th>Start Time</th>\n",
       "      <th>End Time</th>\n",
       "      <th>Category</th>\n",
       "      <th>Timestamp</th>\n",
       "      <th>Heart Rate</th>\n",
       "      <th>Source Name</th>\n",
       "    </tr>\n",
       "  </thead>\n",
       "  <tbody>\n",
       "    <tr>\n",
       "      <th>0</th>\n",
       "      <td>2022-09-13 01:47:49</td>\n",
       "      <td>2022-09-13 01:59:19</td>\n",
       "      <td>Light/Core</td>\n",
       "      <td>2022-09-13 01:46:47</td>\n",
       "      <td>64.0</td>\n",
       "      <td>Apple Watch SE 2020</td>\n",
       "    </tr>\n",
       "    <tr>\n",
       "      <th>1</th>\n",
       "      <td>2022-09-13 01:59:19</td>\n",
       "      <td>2022-09-13 02:04:49</td>\n",
       "      <td>Deep</td>\n",
       "      <td>2022-09-13 01:59:47</td>\n",
       "      <td>62.0</td>\n",
       "      <td>Apple Watch SE 2020</td>\n",
       "    </tr>\n",
       "    <tr>\n",
       "      <th>2</th>\n",
       "      <td>2022-09-13 02:04:49</td>\n",
       "      <td>2022-09-13 02:12:49</td>\n",
       "      <td>Light/Core</td>\n",
       "      <td>2022-09-13 02:05:44</td>\n",
       "      <td>64.0</td>\n",
       "      <td>Apple Watch SE 2020</td>\n",
       "    </tr>\n",
       "    <tr>\n",
       "      <th>3</th>\n",
       "      <td>2022-09-13 02:12:49</td>\n",
       "      <td>2022-09-13 02:27:19</td>\n",
       "      <td>Deep</td>\n",
       "      <td>2022-09-13 02:13:49</td>\n",
       "      <td>65.0</td>\n",
       "      <td>Apple Watch SE 2020</td>\n",
       "    </tr>\n",
       "    <tr>\n",
       "      <th>4</th>\n",
       "      <td>2022-09-13 02:27:19</td>\n",
       "      <td>2022-09-13 02:35:49</td>\n",
       "      <td>Light/Core</td>\n",
       "      <td>2022-09-13 02:24:49</td>\n",
       "      <td>64.0</td>\n",
       "      <td>Apple Watch SE 2020</td>\n",
       "    </tr>\n",
       "  </tbody>\n",
       "</table>\n",
       "</div>"
      ],
      "text/plain": [
       "            Start Time             End Time    Category            Timestamp  \\\n",
       "0  2022-09-13 01:47:49  2022-09-13 01:59:19  Light/Core  2022-09-13 01:46:47   \n",
       "1  2022-09-13 01:59:19  2022-09-13 02:04:49        Deep  2022-09-13 01:59:47   \n",
       "2  2022-09-13 02:04:49  2022-09-13 02:12:49  Light/Core  2022-09-13 02:05:44   \n",
       "3  2022-09-13 02:12:49  2022-09-13 02:27:19        Deep  2022-09-13 02:13:49   \n",
       "4  2022-09-13 02:27:19  2022-09-13 02:35:49  Light/Core  2022-09-13 02:24:49   \n",
       "\n",
       "   Heart Rate          Source Name  \n",
       "0        64.0  Apple Watch SE 2020  \n",
       "1        62.0  Apple Watch SE 2020  \n",
       "2        64.0  Apple Watch SE 2020  \n",
       "3        65.0  Apple Watch SE 2020  \n",
       "4        64.0  Apple Watch SE 2020  "
      ]
     },
     "execution_count": 22,
     "metadata": {},
     "output_type": "execute_result"
    }
   ],
   "source": [
    "sleep_df.head(5)"
   ]
  },
  {
   "cell_type": "code",
   "execution_count": 27,
   "metadata": {},
   "outputs": [
    {
     "data": {
      "text/plain": [
       "Index(['Start Time', 'End Time', 'Category', 'Timestamp', 'Heart Rate',\n",
       "       'Source Name'],\n",
       "      dtype='object')"
      ]
     },
     "execution_count": 27,
     "metadata": {},
     "output_type": "execute_result"
    }
   ],
   "source": [
    "sleep_df.columns"
   ]
  },
  {
   "cell_type": "code",
   "execution_count": 29,
   "metadata": {},
   "outputs": [
    {
     "data": {
      "text/plain": [
       "Start Time      object\n",
       "End Time        object\n",
       "Category        object\n",
       "Timestamp       object\n",
       "Heart Rate     float64\n",
       "Source Name     object\n",
       "dtype: object"
      ]
     },
     "execution_count": 29,
     "metadata": {},
     "output_type": "execute_result"
    }
   ],
   "source": [
    "sleep_df.dtypes"
   ]
  },
  {
   "cell_type": "code",
   "execution_count": 28,
   "metadata": {},
   "outputs": [
    {
     "data": {
      "text/html": [
       "<div>\n",
       "<style scoped>\n",
       "    .dataframe tbody tr th:only-of-type {\n",
       "        vertical-align: middle;\n",
       "    }\n",
       "\n",
       "    .dataframe tbody tr th {\n",
       "        vertical-align: top;\n",
       "    }\n",
       "\n",
       "    .dataframe thead th {\n",
       "        text-align: right;\n",
       "    }\n",
       "</style>\n",
       "<table border=\"1\" class=\"dataframe\">\n",
       "  <thead>\n",
       "    <tr style=\"text-align: right;\">\n",
       "      <th></th>\n",
       "      <th>Heart Rate</th>\n",
       "    </tr>\n",
       "  </thead>\n",
       "  <tbody>\n",
       "    <tr>\n",
       "      <th>count</th>\n",
       "      <td>8375.000000</td>\n",
       "    </tr>\n",
       "    <tr>\n",
       "      <th>mean</th>\n",
       "      <td>63.988471</td>\n",
       "    </tr>\n",
       "    <tr>\n",
       "      <th>std</th>\n",
       "      <td>5.974241</td>\n",
       "    </tr>\n",
       "    <tr>\n",
       "      <th>min</th>\n",
       "      <td>46.000000</td>\n",
       "    </tr>\n",
       "    <tr>\n",
       "      <th>25%</th>\n",
       "      <td>60.000000</td>\n",
       "    </tr>\n",
       "    <tr>\n",
       "      <th>50%</th>\n",
       "      <td>63.000000</td>\n",
       "    </tr>\n",
       "    <tr>\n",
       "      <th>75%</th>\n",
       "      <td>67.000000</td>\n",
       "    </tr>\n",
       "    <tr>\n",
       "      <th>max</th>\n",
       "      <td>143.000000</td>\n",
       "    </tr>\n",
       "  </tbody>\n",
       "</table>\n",
       "</div>"
      ],
      "text/plain": [
       "        Heart Rate\n",
       "count  8375.000000\n",
       "mean     63.988471\n",
       "std       5.974241\n",
       "min      46.000000\n",
       "25%      60.000000\n",
       "50%      63.000000\n",
       "75%      67.000000\n",
       "max     143.000000"
      ]
     },
     "execution_count": 28,
     "metadata": {},
     "output_type": "execute_result"
    }
   ],
   "source": [
    "sleep_df.describe()"
   ]
  },
  {
   "cell_type": "markdown",
   "metadata": {},
   "source": [
    "# Data Preperation - Sleep Data"
   ]
  },
  {
   "cell_type": "code",
   "execution_count": 33,
   "metadata": {},
   "outputs": [],
   "source": [
    "sleep_df['Start Time'] = pd.to_datetime(sleep_df['Start Time'])\n",
    "sleep_df['End Time'] = pd.to_datetime(sleep_df['End Time'])\n",
    "sleep_df['Timestamp'] = pd.to_datetime(sleep_df['Timestamp'])"
   ]
  },
  {
   "cell_type": "code",
   "execution_count": 34,
   "metadata": {},
   "outputs": [
    {
     "data": {
      "text/plain": [
       "Start Time     datetime64[ns]\n",
       "End Time       datetime64[ns]\n",
       "Category               object\n",
       "Timestamp      datetime64[ns]\n",
       "Heart Rate            float64\n",
       "Source Name            object\n",
       "dtype: object"
      ]
     },
     "execution_count": 34,
     "metadata": {},
     "output_type": "execute_result"
    }
   ],
   "source": [
    "sleep_df.dtypes"
   ]
  },
  {
   "cell_type": "code",
   "execution_count": 36,
   "metadata": {},
   "outputs": [
    {
     "data": {
      "text/html": [
       "<div>\n",
       "<style scoped>\n",
       "    .dataframe tbody tr th:only-of-type {\n",
       "        vertical-align: middle;\n",
       "    }\n",
       "\n",
       "    .dataframe tbody tr th {\n",
       "        vertical-align: top;\n",
       "    }\n",
       "\n",
       "    .dataframe thead th {\n",
       "        text-align: right;\n",
       "    }\n",
       "</style>\n",
       "<table border=\"1\" class=\"dataframe\">\n",
       "  <thead>\n",
       "    <tr style=\"text-align: right;\">\n",
       "      <th></th>\n",
       "      <th>Start Time</th>\n",
       "      <th>End Time</th>\n",
       "      <th>Category</th>\n",
       "      <th>Timestamp</th>\n",
       "      <th>Heart Rate</th>\n",
       "      <th>Source Name</th>\n",
       "    </tr>\n",
       "  </thead>\n",
       "  <tbody>\n",
       "    <tr>\n",
       "      <th>0</th>\n",
       "      <td>2022-09-13 01:47:49</td>\n",
       "      <td>2022-09-13 01:59:19</td>\n",
       "      <td>Light/Core</td>\n",
       "      <td>2022-09-13 01:46:47</td>\n",
       "      <td>64.0</td>\n",
       "      <td>Apple Watch SE 2020</td>\n",
       "    </tr>\n",
       "    <tr>\n",
       "      <th>1</th>\n",
       "      <td>2022-09-13 01:59:19</td>\n",
       "      <td>2022-09-13 02:04:49</td>\n",
       "      <td>Deep</td>\n",
       "      <td>2022-09-13 01:59:47</td>\n",
       "      <td>62.0</td>\n",
       "      <td>Apple Watch SE 2020</td>\n",
       "    </tr>\n",
       "    <tr>\n",
       "      <th>2</th>\n",
       "      <td>2022-09-13 02:04:49</td>\n",
       "      <td>2022-09-13 02:12:49</td>\n",
       "      <td>Light/Core</td>\n",
       "      <td>2022-09-13 02:05:44</td>\n",
       "      <td>64.0</td>\n",
       "      <td>Apple Watch SE 2020</td>\n",
       "    </tr>\n",
       "    <tr>\n",
       "      <th>3</th>\n",
       "      <td>2022-09-13 02:12:49</td>\n",
       "      <td>2022-09-13 02:27:19</td>\n",
       "      <td>Deep</td>\n",
       "      <td>2022-09-13 02:13:49</td>\n",
       "      <td>65.0</td>\n",
       "      <td>Apple Watch SE 2020</td>\n",
       "    </tr>\n",
       "    <tr>\n",
       "      <th>4</th>\n",
       "      <td>2022-09-13 02:27:19</td>\n",
       "      <td>2022-09-13 02:35:49</td>\n",
       "      <td>Light/Core</td>\n",
       "      <td>2022-09-13 02:24:49</td>\n",
       "      <td>64.0</td>\n",
       "      <td>Apple Watch SE 2020</td>\n",
       "    </tr>\n",
       "  </tbody>\n",
       "</table>\n",
       "</div>"
      ],
      "text/plain": [
       "           Start Time            End Time    Category           Timestamp  \\\n",
       "0 2022-09-13 01:47:49 2022-09-13 01:59:19  Light/Core 2022-09-13 01:46:47   \n",
       "1 2022-09-13 01:59:19 2022-09-13 02:04:49        Deep 2022-09-13 01:59:47   \n",
       "2 2022-09-13 02:04:49 2022-09-13 02:12:49  Light/Core 2022-09-13 02:05:44   \n",
       "3 2022-09-13 02:12:49 2022-09-13 02:27:19        Deep 2022-09-13 02:13:49   \n",
       "4 2022-09-13 02:27:19 2022-09-13 02:35:49  Light/Core 2022-09-13 02:24:49   \n",
       "\n",
       "   Heart Rate          Source Name  \n",
       "0        64.0  Apple Watch SE 2020  \n",
       "1        62.0  Apple Watch SE 2020  \n",
       "2        64.0  Apple Watch SE 2020  \n",
       "3        65.0  Apple Watch SE 2020  \n",
       "4        64.0  Apple Watch SE 2020  "
      ]
     },
     "execution_count": 36,
     "metadata": {},
     "output_type": "execute_result"
    }
   ],
   "source": [
    "sleep_df.head()"
   ]
  },
  {
   "cell_type": "code",
   "execution_count": 37,
   "metadata": {},
   "outputs": [],
   "source": [
    "# rename columns\n",
    "sleep_df = sleep_df.rename(columns={'Start Time': 'start_name',\n",
    "                   'End Time': 'end_time',\n",
    "                   'Category': 'category',\n",
    "                   'Timestamp': 'datetime',\n",
    "                   'Heart Rate': 'heart_rate',\n",
    "                   'Source Name': 'source_name',\n",
    "                   })"
   ]
  },
  {
   "cell_type": "code",
   "execution_count": 38,
   "metadata": {},
   "outputs": [
    {
     "data": {
      "text/html": [
       "<div>\n",
       "<style scoped>\n",
       "    .dataframe tbody tr th:only-of-type {\n",
       "        vertical-align: middle;\n",
       "    }\n",
       "\n",
       "    .dataframe tbody tr th {\n",
       "        vertical-align: top;\n",
       "    }\n",
       "\n",
       "    .dataframe thead th {\n",
       "        text-align: right;\n",
       "    }\n",
       "</style>\n",
       "<table border=\"1\" class=\"dataframe\">\n",
       "  <thead>\n",
       "    <tr style=\"text-align: right;\">\n",
       "      <th></th>\n",
       "      <th>start_name</th>\n",
       "      <th>end_time</th>\n",
       "      <th>category</th>\n",
       "      <th>datetime</th>\n",
       "      <th>heart_rate</th>\n",
       "      <th>source_name</th>\n",
       "    </tr>\n",
       "  </thead>\n",
       "  <tbody>\n",
       "    <tr>\n",
       "      <th>0</th>\n",
       "      <td>2022-09-13 01:47:49</td>\n",
       "      <td>2022-09-13 01:59:19</td>\n",
       "      <td>Light/Core</td>\n",
       "      <td>2022-09-13 01:46:47</td>\n",
       "      <td>64.0</td>\n",
       "      <td>Apple Watch SE 2020</td>\n",
       "    </tr>\n",
       "    <tr>\n",
       "      <th>1</th>\n",
       "      <td>2022-09-13 01:59:19</td>\n",
       "      <td>2022-09-13 02:04:49</td>\n",
       "      <td>Deep</td>\n",
       "      <td>2022-09-13 01:59:47</td>\n",
       "      <td>62.0</td>\n",
       "      <td>Apple Watch SE 2020</td>\n",
       "    </tr>\n",
       "    <tr>\n",
       "      <th>2</th>\n",
       "      <td>2022-09-13 02:04:49</td>\n",
       "      <td>2022-09-13 02:12:49</td>\n",
       "      <td>Light/Core</td>\n",
       "      <td>2022-09-13 02:05:44</td>\n",
       "      <td>64.0</td>\n",
       "      <td>Apple Watch SE 2020</td>\n",
       "    </tr>\n",
       "    <tr>\n",
       "      <th>3</th>\n",
       "      <td>2022-09-13 02:12:49</td>\n",
       "      <td>2022-09-13 02:27:19</td>\n",
       "      <td>Deep</td>\n",
       "      <td>2022-09-13 02:13:49</td>\n",
       "      <td>65.0</td>\n",
       "      <td>Apple Watch SE 2020</td>\n",
       "    </tr>\n",
       "    <tr>\n",
       "      <th>4</th>\n",
       "      <td>2022-09-13 02:27:19</td>\n",
       "      <td>2022-09-13 02:35:49</td>\n",
       "      <td>Light/Core</td>\n",
       "      <td>2022-09-13 02:24:49</td>\n",
       "      <td>64.0</td>\n",
       "      <td>Apple Watch SE 2020</td>\n",
       "    </tr>\n",
       "  </tbody>\n",
       "</table>\n",
       "</div>"
      ],
      "text/plain": [
       "           start_name            end_time    category            datetime  \\\n",
       "0 2022-09-13 01:47:49 2022-09-13 01:59:19  Light/Core 2022-09-13 01:46:47   \n",
       "1 2022-09-13 01:59:19 2022-09-13 02:04:49        Deep 2022-09-13 01:59:47   \n",
       "2 2022-09-13 02:04:49 2022-09-13 02:12:49  Light/Core 2022-09-13 02:05:44   \n",
       "3 2022-09-13 02:12:49 2022-09-13 02:27:19        Deep 2022-09-13 02:13:49   \n",
       "4 2022-09-13 02:27:19 2022-09-13 02:35:49  Light/Core 2022-09-13 02:24:49   \n",
       "\n",
       "   heart_rate          source_name  \n",
       "0        64.0  Apple Watch SE 2020  \n",
       "1        62.0  Apple Watch SE 2020  \n",
       "2        64.0  Apple Watch SE 2020  \n",
       "3        65.0  Apple Watch SE 2020  \n",
       "4        64.0  Apple Watch SE 2020  "
      ]
     },
     "execution_count": 38,
     "metadata": {},
     "output_type": "execute_result"
    }
   ],
   "source": [
    "sleep_df.head()"
   ]
  },
  {
   "cell_type": "code",
   "execution_count": 39,
   "metadata": {},
   "outputs": [
    {
     "data": {
      "text/plain": [
       "datetime       0\n",
       "heart_rate     0\n",
       "source_name    0\n",
       "dtype: int64"
      ]
     },
     "execution_count": 39,
     "metadata": {},
     "output_type": "execute_result"
    }
   ],
   "source": [
    "heart_rate_df.isna().sum()"
   ]
  },
  {
   "cell_type": "code",
   "execution_count": 40,
   "metadata": {},
   "outputs": [
    {
     "data": {
      "text/html": [
       "<div>\n",
       "<style scoped>\n",
       "    .dataframe tbody tr th:only-of-type {\n",
       "        vertical-align: middle;\n",
       "    }\n",
       "\n",
       "    .dataframe tbody tr th {\n",
       "        vertical-align: top;\n",
       "    }\n",
       "\n",
       "    .dataframe thead th {\n",
       "        text-align: right;\n",
       "    }\n",
       "</style>\n",
       "<table border=\"1\" class=\"dataframe\">\n",
       "  <thead>\n",
       "    <tr style=\"text-align: right;\">\n",
       "      <th></th>\n",
       "      <th>datetime</th>\n",
       "      <th>heart_rate</th>\n",
       "      <th>source_name</th>\n",
       "    </tr>\n",
       "  </thead>\n",
       "  <tbody>\n",
       "  </tbody>\n",
       "</table>\n",
       "</div>"
      ],
      "text/plain": [
       "Empty DataFrame\n",
       "Columns: [datetime, heart_rate, source_name]\n",
       "Index: []"
      ]
     },
     "execution_count": 40,
     "metadata": {},
     "output_type": "execute_result"
    }
   ],
   "source": [
    "heart_rate_df.loc[heart_rate_df.duplicated()]"
   ]
  },
  {
   "cell_type": "code",
   "execution_count": null,
   "metadata": {},
   "outputs": [],
   "source": []
  }
 ],
 "metadata": {
  "kernelspec": {
   "display_name": "Python 3",
   "language": "python",
   "name": "python3"
  },
  "language_info": {
   "codemirror_mode": {
    "name": "ipython",
    "version": 3
   },
   "file_extension": ".py",
   "mimetype": "text/x-python",
   "name": "python",
   "nbconvert_exporter": "python",
   "pygments_lexer": "ipython3",
   "version": "3.10.6"
  }
 },
 "nbformat": 4,
 "nbformat_minor": 2
}
